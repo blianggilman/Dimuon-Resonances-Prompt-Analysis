{
 "cells": [
  {
   "cell_type": "code",
   "execution_count": 39,
   "id": "maritime-plant",
   "metadata": {},
   "outputs": [],
   "source": [
    "import uproot3\n",
    "import awkward0 as awk\n",
    "import numpy as np\n",
    "import matplotlib.pyplot as plt\n",
    "import uproot_methods\n",
    "import uproot3_methods"
   ]
  },
  {
   "cell_type": "code",
   "execution_count": 40,
   "id": "fallen-advocate",
   "metadata": {},
   "outputs": [],
   "source": [
    "import os\n",
    "import sys"
   ]
  },
  {
   "cell_type": "code",
   "execution_count": 41,
   "id": "billion-weapon",
   "metadata": {},
   "outputs": [],
   "source": [
    "# input_file = uproot3.open(\"/cms/routray/crab_output/muontuples_10percent_v2/ScoutingCaloMuon/ScoutingCaloMuon_Ntuples_Run2017D_v1/200307_225553/0000/scouting_ntuple_1.root\")\n",
    "#print(\"kind of objects: \", input_file.classnames())                                                                                                                                 \n",
    "\n",
    "#ROOT.TFile('/cms/routray/crab_output/muontuples_10percent_v2/ScoutingCaloMuon/ScoutingCaloMuon_Ntuples_Run2017D_v1/200307_225553/0000/scouting_ntuple_{0}.root'.format(sys.argv[1]))"
   ]
  },
  {
   "cell_type": "code",
   "execution_count": 42,
   "id": "medical-token",
   "metadata": {},
   "outputs": [],
   "source": [
    "input_file = uproot3.open(\"/cms/threejet-2/beatrice/muon_ntuples_sl7/CMSSW_10_2_5/src/MuonAnalysis/Scouting/condor/output/2017/D/flattree_1.root\")\n"
   ]
  },
  {
   "cell_type": "code",
   "execution_count": 43,
   "id": "coated-plaintiff",
   "metadata": {},
   "outputs": [
    {
     "name": "stdout",
     "output_type": "stream",
     "text": [
      "[b'events;5', b'events;4']\n"
     ]
    }
   ],
   "source": [
    "data_keys = input_file.keys()\n",
    "print(data_keys)\n"
   ]
  },
  {
   "cell_type": "code",
   "execution_count": 44,
   "id": "comic-bacon",
   "metadata": {},
   "outputs": [
    {
     "name": "stdout",
     "output_type": "stream",
     "text": [
      "Tree keys:\n",
      "[b'run', b'lumi', b'event_num', b'num_muons', b'dimuon_pt', b'dimuon_mass', b'dimuon_dR', b'muon1_trkiso', b'muon2_trkiso', b'muon1_pt', b'muon2_pt', b'muon1_eta', b'muon2_eta', b'muon1_phi', b'muon2_phi', b'muon1_excesspixelhits', b'muon2_excesspixelhits', b'muon1_q', b'muon2_q', b'muon1_chi2overndof', b'muon2_chi2overndof', b'muon1_dxy', b'muon2_dxy', b'muon1_dxycorr', b'muon2_dxycorr', b'num_jets', b'jet_pt', b'jet_eta', b'jet_phi', b'jet_mass', b'jet_csv', b'PVx', b'PVy', b'PVz', b'dRmuon1_closestjet', b'dRmuon2_closestjet']\n"
     ]
    }
   ],
   "source": [
    "tree = input_file[\"events\"]\n",
    "\n",
    "vals = tree.keys()\n",
    "print(\"Tree keys:\")\n",
    "print(vals)"
   ]
  },
  {
   "cell_type": "code",
   "execution_count": 45,
   "id": "disabled-investigation",
   "metadata": {},
   "outputs": [
    {
     "name": "stdout",
     "output_type": "stream",
     "text": [
      "run                        (no streamer)              asdtype('>i4')\n",
      "lumi                       (no streamer)              asdtype('>i4')\n",
      "event_num                  (no streamer)              asdtype('>i4')\n",
      "num_muons                  (no streamer)              asdtype('>i4')\n",
      "dimuon_pt                  (no streamer)              asdtype('>f4')\n",
      "dimuon_mass                (no streamer)              asdtype('>f4')\n",
      "dimuon_dR                  (no streamer)              asdtype('>f4')\n",
      "muon1_trkiso               (no streamer)              asdtype('>f4')\n",
      "muon2_trkiso               (no streamer)              asdtype('>f4')\n",
      "muon1_pt                   (no streamer)              asdtype('>f4')\n",
      "muon2_pt                   (no streamer)              asdtype('>f4')\n",
      "muon1_eta                  (no streamer)              asdtype('>f4')\n",
      "muon2_eta                  (no streamer)              asdtype('>f4')\n",
      "muon1_phi                  (no streamer)              asdtype('>f4')\n",
      "muon2_phi                  (no streamer)              asdtype('>f4')\n",
      "muon1_excesspixelhits      (no streamer)              asdtype('>f4')\n",
      "muon2_excesspixelhits      (no streamer)              asdtype('>f4')\n",
      "muon1_q                    (no streamer)              asdtype('>f4')\n",
      "muon2_q                    (no streamer)              asdtype('>f4')\n",
      "muon1_chi2overndof         (no streamer)              asdtype('>f4')\n",
      "muon2_chi2overndof         (no streamer)              asdtype('>f4')\n",
      "muon1_dxy                  (no streamer)              asdtype('>f4')\n",
      "muon2_dxy                  (no streamer)              asdtype('>f4')\n",
      "muon1_dxycorr              (no streamer)              asdtype('>f4')\n",
      "muon2_dxycorr              (no streamer)              asdtype('>f4')\n",
      "num_jets                   (no streamer)              asdtype('>i4')\n",
      "jet_pt                     (no streamer)              asjagged(asdtype('>f4'))\n",
      "jet_eta                    (no streamer)              asjagged(asdtype('>f4'))\n",
      "jet_phi                    (no streamer)              asjagged(asdtype('>f4'))\n",
      "jet_mass                   (no streamer)              asjagged(asdtype('>f4'))\n",
      "jet_csv                    (no streamer)              asjagged(asdtype('>f4'))\n",
      "PVx                        (no streamer)              asdtype('>f4')\n",
      "PVy                        (no streamer)              asdtype('>f4')\n",
      "PVz                        (no streamer)              asdtype('>f4')\n",
      "dRmuon1_closestjet         (no streamer)              asdtype('>f4')\n",
      "dRmuon2_closestjet         (no streamer)              asdtype('>f4')\n"
     ]
    }
   ],
   "source": [
    "tree.show()"
   ]
  },
  {
   "cell_type": "code",
   "execution_count": 46,
   "id": "available-brake",
   "metadata": {},
   "outputs": [
    {
     "name": "stdout",
     "output_type": "stream",
     "text": [
      "First 10 dimuon_pt values:\n",
      "20.082949\n",
      "15.351138\n",
      "13.806104\n",
      "10.060834\n",
      "6.915235\n",
      "10.281326\n",
      "8.663606\n",
      "11.114048\n",
      "7.8796453\n",
      "5.9019985\n"
     ]
    }
   ],
   "source": [
    "branches = tree.arrays(namedecode='utf-8')\n",
    "#print(branches['Run'])                                                                                                                                                              \n",
    "print(\"First 10 dimuon_pt values:\")\n",
    "for i in range(10):\n",
    "    print(branches['dimuon_pt'][i])"
   ]
  },
  {
   "cell_type": "code",
   "execution_count": 47,
   "id": "latter-performer",
   "metadata": {},
   "outputs": [
    {
     "name": "stdout",
     "output_type": "stream",
     "text": [
      "run = 1217631232\n",
      "lumi = 1139179520\n",
      "event_num = -1174405120\n",
      "num_muons = 2\n",
      "dimuon_pt = 20.082949\n",
      "dimuon_mass = 1.3693004\n",
      "dimuon_dR = 0.13472414\n",
      "muon1_trkiso = 10.454581\n",
      "muon2_trkiso = 9.635884\n",
      "muon1_pt = 10.454581\n",
      "muon2_pt = 9.635884\n",
      "muon1_eta = -0.85237616\n",
      "muon2_eta = -0.9754718\n",
      "muon1_phi = 0.4716349\n",
      "muon2_phi = 0.5263894\n",
      "muon1_excesspixelhits = -1.0\n",
      "muon2_excesspixelhits = 0.0\n",
      "muon1_q = -1.0\n",
      "muon2_q = 1.0\n",
      "muon1_chi2overndof = 0.39492097\n",
      "muon2_chi2overndof = 0.7395577\n",
      "muon1_dxy = -0.0568195\n",
      "muon2_dxy = -0.07153648\n",
      "muon1_dxycorr = 0.0076186466\n",
      "muon2_dxycorr = 0.0012415313\n",
      "num_jets = 4\n",
      "jet_pt = [42.177284  0.        0.        0.      ]\n",
      "jet_eta = [-9.211465e-01  0.000000e+00  5.840251e-35  0.000000e+00]\n",
      "jet_phi = [5.1036906e-01 0.0000000e+00 5.6481861e-35 0.0000000e+00]\n",
      "jet_mass = [ 6.2894230e+00  0.0000000e+00 -3.6370635e-01  1.5419888e-41]\n",
      "jet_csv = [0.000000e+00 0.000000e+00 6.774446e-38 0.000000e+00]\n",
      "PVx = 0.08455052\n",
      "PVy = -0.032079823\n",
      "PVz = -2.232635\n",
      "dRmuon1_closestjet = 0.078928426\n",
      "dRmuon2_closestjet = 0.056638222\n"
     ]
    }
   ],
   "source": [
    "#convert to table                                                                                                                                                                    \n",
    "table = awk.Table(branches)\n",
    "for column_name in table[0]:                                                                                                                                                        \n",
    "    print(column_name, '=', table[0][column_name])                                                                                                                                  "
   ]
  },
  {
   "cell_type": "code",
   "execution_count": null,
   "id": "shaped-johns",
   "metadata": {},
   "outputs": [],
   "source": [
    "#plot histograms                                                                                                                                                                     \n",
    "plt.hist(branches['dimuon_pt'].flatten(), bins=1000, range=(0,50))\n",
    "plt.show()"
   ]
  },
  {
   "cell_type": "code",
   "execution_count": null,
   "id": "demographic-remedy",
   "metadata": {},
   "outputs": [],
   "source": []
  },
  {
   "cell_type": "code",
   "execution_count": null,
   "id": "efficient-lawrence",
   "metadata": {},
   "outputs": [],
   "source": [
    "###make Lorentz vectors                                                                                                                                                              \n",
    "\n",
    "#select only events with 2 muons, put them in a table, make lorentz vector                                                                                                           \n",
    "two_muon_events = (branches['num_muons'] == 2)\n",
    "#two_muons_table = awk.Table(two_muon_events)                                                                                                                                        \n",
    "two_muons_table = table[two_muon_events]\n",
    "print(\"two muuons table\")\n",
    "print(two_muons_table)\n",
    "#print(two_muons_table.info())                                                                                                                                                       \n",
    "print(\"# of rows, cols\", len(two_muons_table), len(two_muons_table.columns))\n",
    "print(\"# of rows and cols\", two_muons_table.shape)\n",
    "print(\"# of elements\", two_muons_table.size)\n",
    "#print(two_muons_table['muon_pt'].size))                                                                                                                                             \n",
    "#print(two_muons_table['muon_eta'].size))                                                                                                                                            \n",
    "#print(two_muons_table['muon_phi'].size))                                                                                                                                            \n"
   ]
  },
  {
   "cell_type": "code",
   "execution_count": null,
   "id": "sorted-patio",
   "metadata": {},
   "outputs": [],
   "source": [
    "#get invariant mass and deltaR\n",
    "mu1p = uproot3_methods.TLorentzVectorArray.from_ptetaphim(two_muons_table['muon1_pt'], two_muons_table['muon1_eta'], two_muons_table['muon1_phi'], 0.1056583745)\n",
    "mu2p = uproot3_methods.TLorentzVectorArray.from_ptetaphim(two_muons_table['muon2_pt'], two_muons_table['muon2_eta'], two_muons_table['muon2_phi'], 0.1056583745)\n",
    "parentp = mu1p + mu2p"
   ]
  },
  {
   "cell_type": "code",
   "execution_count": null,
   "id": "explicit-democrat",
   "metadata": {},
   "outputs": [],
   "source": [
    "fig, axes = plt.subplots(nrows=1, ncols=2, figsize=(15, 5))\n",
    "\n",
    "deltaR = mu1p.delta_r(mu2p)\n",
    "axes[0].hist(deltaR, bins=100)\n",
    "axes[0].set_title('$\\Delta R$ from Lorentz Vector')\n",
    "axes[0].set_xlabel('$\\Delta R$ between muons')\n",
    "axes[0].set_ylabel('Number of two-muon events')\n",
    "\n",
    "axes[1].hist(branches['dimuon_dR'].flatten(), bins=100)\n",
    "axes[1].set_title('$\\Delta R$ from Branches')\n",
    "axes[1].set_xlabel('$\\Delta R$ between muons')\n",
    "axes[1].set_ylabel('Number of two-muon events')\n",
    "\n",
    "fig.tight_layout()"
   ]
  },
  {
   "cell_type": "code",
   "execution_count": null,
   "id": "ordinary-flour",
   "metadata": {},
   "outputs": [],
   "source": [
    "#muon 2 delta R\n",
    "fig, axes = plt.subplots(nrows=1, ncols=2, figsize=(15, 5))\n",
    "\n",
    "axes[0].hist(branches['dRmuon1_closestjet'].flatten(), bins=100)\n",
    "axes[0].set_title('$\\Delta R$ from Lorentz Vector')\n",
    "axes[0].set_xlabel('$\\Delta R$ between muons')\n",
    "axes[0].set_ylabel('Number of two-muon events')\n",
    "\n",
    "axes[1].hist(branches['dRmuon2_closestjet'].flatten(), bins=100, range=(0,6))\n",
    "axes[1].set_title('$\\Delta R$ from Branches')\n",
    "axes[1].set_xlabel('$\\Delta R$ between muons')\n",
    "axes[1].set_ylabel('Number of two-muon events')\n",
    "\n",
    "fig.tight_layout()"
   ]
  },
  {
   "cell_type": "code",
   "execution_count": null,
   "id": "cosmetic-police",
   "metadata": {},
   "outputs": [],
   "source": [
    "#cut to only include opposite sign muons, apply cut to dimuon 4-vectors                                                                                                              \n",
    "OS_muons = two_muons_table['muon1_q'] != two_muons_table['muon2_q']\n",
    "dimuon_p4 = parentp[OS_muons]\n",
    "plt.hist(dimuon_p4.mass, bins=np.logspace(np.log10(0.1), np.log10(1000), 200))\n",
    "plt.xlabel('Dimuon invariant mass [GeV]')\n",
    "plt.ylabel('Number of dimuon events')\n",
    "plt.xscale('log')\n",
    "plt.yscale('log')\n",
    "plt.show()"
   ]
  },
  {
   "cell_type": "code",
   "execution_count": null,
   "id": "alpha-syndicate",
   "metadata": {},
   "outputs": [],
   "source": []
  },
  {
   "cell_type": "markdown",
   "id": "drawn-rendering",
   "metadata": {},
   "source": [
    "# Make Mass Plots"
   ]
  },
  {
   "cell_type": "code",
   "execution_count": null,
   "id": "cheap-relevance",
   "metadata": {},
   "outputs": [],
   "source": [
    "#No cuts\n",
    "fig, axes = plt.subplots(nrows=1, ncols=2, figsize=(15, 5))\n",
    "\n",
    "axes[0].hist(parentp.mass, bins=np.logspace(np.log10(0.1), np.log10(1000), 200))\n",
    "axes[0].set_title('Dimuon Mass from Lorentz Vector (No cuts)')\n",
    "axes[0].set_xlabel('Dimuon invariant mass [GeV]')\n",
    "axes[0].set_ylabel('Number of dimuon events')\n",
    "axes[0].set_xscale('log')\n",
    "axes[0].set_yscale('log')\n",
    "\n",
    "# axes[1].hist(branches['dimuon_mass'].flatten(), bins=100, range=(0,5))\n",
    "axes[1].hist(branches['dimuon_mass'].flatten(), bins=np.logspace(np.log10(0.1), np.log10(1000), 200))\n",
    "axes[1].set_title('Dimuon mass from Branches (No cuts)')\n",
    "axes[1].set_xlabel('Dimuon invariant mass [GeV]')\n",
    "axes[1].set_ylabel('Number of dimuon events')\n",
    "axes[1].set_xscale('log')\n",
    "axes[1].set_yscale('log')\n",
    "\n",
    "fig.tight_layout()"
   ]
  },
  {
   "cell_type": "code",
   "execution_count": null,
   "id": "wicked-bridge",
   "metadata": {},
   "outputs": [],
   "source": [
    "#Add pt, eta, iso cuts\n",
    "#these cuts return true/false - true means keep that event, false means don't use it\n",
    "muon1_pt_cut = two_muons_table['muon1_pt'] >= 3\n",
    "muon2_pt_cut = two_muons_table['muon2_pt'] >= 3\n",
    "muon1_eta_cut = two_muons_table['muon1_eta'] <= 2.4\n",
    "muon2_eta_cut = two_muons_table['muon2_eta'] <= 2.4\n",
    "muon1_iso_cut = two_muons_table['muon1_trkiso'] >= 0.15\n",
    "muon2_iso_cut = two_muons_table['muon2_trkiso'] >= 0.15\n",
    "dimuon_all_cuts = muon1_pt_cut & muon2_pt_cut & muon1_eta_cut & muon2_eta_cut & muon1_iso_cut & muon2_iso_cut\n",
    "# dimuon_all_cuts_or = muon1_pt_cut | muon2_pt_cut | muon1_eta_cut | muon2_eta_cut | muon1_iso_cut | muon2_iso_cut\n",
    "dimuon_p4_w_cuts = parentp[dimuon_all_cuts]\n",
    "\n",
    "print(muon1_pt_cut.sum())\n",
    "print(muon2_pt_cut.sum())\n",
    "print(muon1_eta_cut.sum())\n",
    "print(muon2_eta_cut.sum())\n",
    "print(dimuon_all_cuts.sum())\n",
    "# print(dimuon_all_cuts_or.sum())\n",
    "\n",
    "plt.hist(dimuon_p4_w_cuts.mass, bins=np.logspace(np.log10(0.1), np.log10(1000), 200))\n",
    "plt.xlabel('Dimuon invariant mass (with cuts) [GeV]')\n",
    "plt.ylabel('Number of dimuon events')\n",
    "plt.xscale('log')\n",
    "plt.yscale('log')\n",
    "plt.show()"
   ]
  },
  {
   "cell_type": "code",
   "execution_count": null,
   "id": "registered-martin",
   "metadata": {},
   "outputs": [],
   "source": [
    "print(len(dimuon_p4_w_cuts))\n",
    "print(len(parentp))\n",
    "print(dimuon_p4_w_cuts)\n",
    "print(parentp)"
   ]
  },
  {
   "cell_type": "code",
   "execution_count": null,
   "id": "brutal-matter",
   "metadata": {},
   "outputs": [],
   "source": []
  },
  {
   "cell_type": "code",
   "execution_count": null,
   "id": "crucial-happening",
   "metadata": {},
   "outputs": [],
   "source": []
  },
  {
   "cell_type": "markdown",
   "id": "national-generator",
   "metadata": {},
   "source": [
    "# Other Variable Plots"
   ]
  },
  {
   "cell_type": "markdown",
   "id": "centered-coordinate",
   "metadata": {},
   "source": [
    "### No Cuts"
   ]
  },
  {
   "cell_type": "code",
   "execution_count": null,
   "id": "native-kingston",
   "metadata": {},
   "outputs": [],
   "source": [
    "#No cuts\n",
    "plt.hist(parentp.pt, bins=np.logspace(np.log10(0.1), np.log10(1000), 200))\n",
    "plt.xlabel('Dimuon pt [GeV] (log scale)')\n",
    "plt.ylabel('Number of dimuon events')\n",
    "plt.xscale('log')\n",
    "plt.yscale('log')\n",
    "plt.show()\n",
    "\n",
    "plt.hist(parentp.pt, bins=500, range=(0,50))\n",
    "plt.xlabel('Dimuon pt [GeV] (linear scale)')\n",
    "plt.ylabel('Number of dimuon events')\n",
    "plt.show()\n",
    "\n",
    "plt.hist(parentp.eta, bins=np.logspace(np.log10(0.1), np.log10(1000), 200))\n",
    "plt.xlabel('Dimuon eta [GeV] (log scale)')\n",
    "plt.ylabel('Number of dimuon events')\n",
    "plt.xscale('log')\n",
    "plt.yscale('log')\n",
    "plt.show()\n",
    "\n",
    "plt.hist(parentp.eta, bins=500)\n",
    "plt.xlabel('Dimuon eta [GeV] (linear scale)')\n",
    "plt.ylabel('Number of dimuon events')\n",
    "plt.show()\n",
    "\n",
    "plt.hist(parentp.phi, bins=500)\n",
    "plt.xlabel('Dimuon phi [GeV] (linear scale)')\n",
    "plt.ylabel('Number of dimuon events')\n",
    "plt.show()"
   ]
  },
  {
   "cell_type": "markdown",
   "id": "honey-closing",
   "metadata": {},
   "source": [
    "### Add cuts"
   ]
  },
  {
   "cell_type": "code",
   "execution_count": null,
   "id": "critical-bermuda",
   "metadata": {},
   "outputs": [],
   "source": [
    "#Add pt, eta, iso cuts\n",
    "plt.hist(dimuon_p4_w_cuts.pt, bins=np.logspace(np.log10(0.1), np.log10(1000), 200))\n",
    "plt.xlabel('Dimuon pt [GeV] (linear scale)')\n",
    "plt.ylabel('Number of dimuon events')\n",
    "plt.xscale('log')\n",
    "plt.yscale('log')\n",
    "plt.show()\n",
    "\n",
    "plt.hist(dimuon_p4_w_cuts.eta, bins=500)\n",
    "plt.xlabel('Dimuon eta [GeV] (linear scale)')\n",
    "plt.ylabel('Number of dimuon events')\n",
    "plt.show()"
   ]
  },
  {
   "cell_type": "code",
   "execution_count": null,
   "id": "recreational-kazakhstan",
   "metadata": {},
   "outputs": [],
   "source": []
  },
  {
   "cell_type": "code",
   "execution_count": null,
   "id": "worth-freight",
   "metadata": {},
   "outputs": [],
   "source": []
  },
  {
   "cell_type": "code",
   "execution_count": null,
   "id": "organized-afternoon",
   "metadata": {},
   "outputs": [],
   "source": []
  },
  {
   "cell_type": "code",
   "execution_count": null,
   "id": "junior-glory",
   "metadata": {},
   "outputs": [],
   "source": []
  },
  {
   "cell_type": "code",
   "execution_count": null,
   "id": "strategic-textbook",
   "metadata": {},
   "outputs": [],
   "source": []
  },
  {
   "cell_type": "code",
   "execution_count": null,
   "id": "official-singles",
   "metadata": {},
   "outputs": [],
   "source": []
  },
  {
   "cell_type": "code",
   "execution_count": null,
   "id": "pointed-frost",
   "metadata": {},
   "outputs": [],
   "source": []
  },
  {
   "cell_type": "code",
   "execution_count": null,
   "id": "golden-saying",
   "metadata": {},
   "outputs": [],
   "source": []
  },
  {
   "cell_type": "code",
   "execution_count": null,
   "id": "musical-notice",
   "metadata": {},
   "outputs": [],
   "source": []
  },
  {
   "cell_type": "code",
   "execution_count": null,
   "id": "suited-alabama",
   "metadata": {},
   "outputs": [],
   "source": []
  },
  {
   "cell_type": "code",
   "execution_count": null,
   "id": "signal-facing",
   "metadata": {},
   "outputs": [],
   "source": []
  },
  {
   "cell_type": "code",
   "execution_count": null,
   "id": "talented-joining",
   "metadata": {},
   "outputs": [],
   "source": []
  },
  {
   "cell_type": "code",
   "execution_count": null,
   "id": "precious-challenge",
   "metadata": {},
   "outputs": [],
   "source": []
  },
  {
   "cell_type": "code",
   "execution_count": null,
   "id": "diagnostic-dressing",
   "metadata": {},
   "outputs": [],
   "source": []
  },
  {
   "cell_type": "code",
   "execution_count": null,
   "id": "similar-society",
   "metadata": {},
   "outputs": [],
   "source": []
  }
 ],
 "metadata": {
  "kernelspec": {
   "display_name": "Python 3",
   "language": "python",
   "name": "python3"
  },
  "language_info": {
   "codemirror_mode": {
    "name": "ipython",
    "version": 3
   },
   "file_extension": ".py",
   "mimetype": "text/x-python",
   "name": "python",
   "nbconvert_exporter": "python",
   "pygments_lexer": "ipython3",
   "version": "3.7.4"
  }
 },
 "nbformat": 4,
 "nbformat_minor": 5
}
