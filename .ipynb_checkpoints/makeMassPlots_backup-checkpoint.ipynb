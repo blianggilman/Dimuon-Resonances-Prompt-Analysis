{
 "cells": [
  {
   "cell_type": "code",
   "execution_count": 1,
   "id": "maritime-plant",
   "metadata": {},
   "outputs": [],
   "source": [
    "import uproot3\n",
    "import awkward0 as awk\n",
    "import numpy as np\n",
    "import matplotlib.pyplot as plt\n",
    "import uproot_methods\n",
    "import uproot3_methods"
   ]
  },
  {
   "cell_type": "code",
   "execution_count": 2,
   "id": "fallen-advocate",
   "metadata": {},
   "outputs": [],
   "source": [
    "import os\n",
    "import sys"
   ]
  },
  {
   "cell_type": "code",
   "execution_count": 3,
   "id": "billion-weapon",
   "metadata": {},
   "outputs": [],
   "source": [
    "# input_file = uproot3.open(\"/cms/routray/crab_output/muontuples_10percent_v2/ScoutingCaloMuon/ScoutingCaloMuon_Ntuples_Run2017D_v1/200307_225553/0000/scouting_ntuple_1.root\")\n",
    "#print(\"kind of objects: \", input_file.classnames())                                                                                                                                 \n",
    "\n",
    "#ROOT.TFile('/cms/routray/crab_output/muontuples_10percent_v2/ScoutingCaloMuon/ScoutingCaloMuon_Ntuples_Run2017D_v1/200307_225553/0000/scouting_ntuple_{0}.root'.format(sys.argv[1]))"
   ]
  },
  {
   "cell_type": "code",
   "execution_count": 4,
   "id": "medical-token",
   "metadata": {},
   "outputs": [],
   "source": [
    "input_file = uproot3.open(\"/cms/threejet-2/beatrice/muon_ntuples_sl7/CMSSW_10_2_5/src/MuonAnalysis/Scouting/condor/output/2017/D/flattree_1.root\")\n"
   ]
  },
  {
   "cell_type": "code",
   "execution_count": 5,
   "id": "coated-plaintiff",
   "metadata": {},
   "outputs": [
    {
     "name": "stdout",
     "output_type": "stream",
     "text": [
      "[b'events;4']\n"
     ]
    }
   ],
   "source": [
    "data_keys = input_file.keys()\n",
    "print(data_keys)\n"
   ]
  },
  {
   "cell_type": "code",
   "execution_count": 6,
   "id": "comic-bacon",
   "metadata": {},
   "outputs": [
    {
     "name": "stdout",
     "output_type": "stream",
     "text": [
      "Tree keys:\n",
      "[b'run', b'lumi', b'event_num', b'num_muons', b'allmuons_pt', b'allmuons_eta', b'allmuons_phi', b'allmuons_trkiso', b'dimuon_pt', b'dimuon_mass', b'dimuon_dR', b'muon1_trkiso', b'muon2_trkiso', b'muon1_pt', b'muon2_pt', b'muon1_eta', b'muon2_eta', b'muon1_phi', b'muon2_phi', b'muon1_excesspixelhits', b'muon2_excesspixelhits', b'muon1_q', b'muon2_q', b'muon1_chi2overndof', b'muon2_chi2overndof', b'muon1_dxy', b'muon2_dxy', b'muon1_dxycorr', b'muon2_dxycorr', b'num_jets', b'jet_pt', b'jet_eta', b'jet_phi', b'jet_mass', b'jet_csv', b'PVx', b'PVy', b'PVz', b'dRmuon1_closestjet', b'dRmuon2_closestjet']\n"
     ]
    }
   ],
   "source": [
    "tree = input_file[\"events\"]\n",
    "\n",
    "vals = tree.keys()\n",
    "print(\"Tree keys:\")\n",
    "print(vals)"
   ]
  },
  {
   "cell_type": "code",
   "execution_count": 7,
   "id": "disabled-investigation",
   "metadata": {},
   "outputs": [
    {
     "name": "stdout",
     "output_type": "stream",
     "text": [
      "run                        (no streamer)              asdtype('>i4')\n",
      "lumi                       (no streamer)              asdtype('>i4')\n",
      "event_num                  (no streamer)              asdtype('>i4')\n",
      "num_muons                  (no streamer)              asdtype('>i4')\n",
      "allmuons_pt                (no streamer)              asjagged(asdtype('>f4'))\n",
      "allmuons_eta               (no streamer)              asjagged(asdtype('>f4'))\n",
      "allmuons_phi               (no streamer)              asjagged(asdtype('>f4'))\n",
      "allmuons_trkiso            (no streamer)              asjagged(asdtype('>f4'))\n",
      "dimuon_pt                  (no streamer)              asdtype('>f4')\n",
      "dimuon_mass                (no streamer)              asdtype('>f4')\n",
      "dimuon_dR                  (no streamer)              asdtype('>f4')\n",
      "muon1_trkiso               (no streamer)              asdtype('>f4')\n",
      "muon2_trkiso               (no streamer)              asdtype('>f4')\n",
      "muon1_pt                   (no streamer)              asdtype('>f4')\n",
      "muon2_pt                   (no streamer)              asdtype('>f4')\n",
      "muon1_eta                  (no streamer)              asdtype('>f4')\n",
      "muon2_eta                  (no streamer)              asdtype('>f4')\n",
      "muon1_phi                  (no streamer)              asdtype('>f4')\n",
      "muon2_phi                  (no streamer)              asdtype('>f4')\n",
      "muon1_excesspixelhits      (no streamer)              asdtype('>f4')\n",
      "muon2_excesspixelhits      (no streamer)              asdtype('>f4')\n",
      "muon1_q                    (no streamer)              asdtype('>f4')\n",
      "muon2_q                    (no streamer)              asdtype('>f4')\n",
      "muon1_chi2overndof         (no streamer)              asdtype('>f4')\n",
      "muon2_chi2overndof         (no streamer)              asdtype('>f4')\n",
      "muon1_dxy                  (no streamer)              asdtype('>f4')\n",
      "muon2_dxy                  (no streamer)              asdtype('>f4')\n",
      "muon1_dxycorr              (no streamer)              asdtype('>f4')\n",
      "muon2_dxycorr              (no streamer)              asdtype('>f4')\n",
      "num_jets                   (no streamer)              asdtype('>i4')\n",
      "jet_pt                     (no streamer)              asjagged(asdtype('>f4'))\n",
      "jet_eta                    (no streamer)              asjagged(asdtype('>f4'))\n",
      "jet_phi                    (no streamer)              asjagged(asdtype('>f4'))\n",
      "jet_mass                   (no streamer)              asjagged(asdtype('>f4'))\n",
      "jet_csv                    (no streamer)              asjagged(asdtype('>f4'))\n",
      "PVx                        (no streamer)              asdtype('>f4')\n",
      "PVy                        (no streamer)              asdtype('>f4')\n",
      "PVz                        (no streamer)              asdtype('>f4')\n",
      "dRmuon1_closestjet         (no streamer)              asdtype('>f4')\n",
      "dRmuon2_closestjet         (no streamer)              asdtype('>f4')\n"
     ]
    }
   ],
   "source": [
    "tree.show()"
   ]
  },
  {
   "cell_type": "code",
   "execution_count": 8,
   "id": "available-brake",
   "metadata": {},
   "outputs": [
    {
     "name": "stdout",
     "output_type": "stream",
     "text": [
      "First 10 dimuon_pt values:\n",
      "20.082949\n",
      "15.351138\n",
      "13.806104\n",
      "10.060834\n",
      "6.915235\n",
      "10.281326\n",
      "8.663606\n",
      "11.114048\n",
      "7.8796453\n",
      "5.9019985\n"
     ]
    }
   ],
   "source": [
    "branches = tree.arrays(namedecode='utf-8')\n",
    "#print(branches['Run'])                                                                                                                                                              \n",
    "print(\"First 10 dimuon_pt values:\")\n",
    "for i in range(10):\n",
    "    print(branches['dimuon_pt'][i])"
   ]
  },
  {
   "cell_type": "code",
   "execution_count": 23,
   "id": "latter-performer",
   "metadata": {},
   "outputs": [
    {
     "name": "stdout",
     "output_type": "stream",
     "text": [
      "run = 1217631232\n",
      "lumi = 1139179520\n",
      "event_num = -1174405120\n",
      "num_muons = 2\n",
      "allmuons_pt = [10.454581  9.635884]\n",
      "allmuons_eta = [-0.85237616 -0.9754718 ]\n",
      "allmuons_phi = [0.4716349 0.5263894]\n",
      "allmuons_trkiso = [1.4855125 1.6117266]\n",
      "dimuon_pt = 20.082949\n",
      "dimuon_mass = 1.3693004\n",
      "dimuon_dR = 0.13472414\n",
      "muon1_trkiso = 10.454581\n",
      "muon2_trkiso = 9.635884\n",
      "muon1_pt = 10.454581\n",
      "muon2_pt = 9.635884\n",
      "muon1_eta = -0.85237616\n",
      "muon2_eta = -0.9754718\n",
      "muon1_phi = 0.4716349\n",
      "muon2_phi = 0.5263894\n",
      "muon1_excesspixelhits = -1.0\n",
      "muon2_excesspixelhits = 0.0\n",
      "muon1_q = -1.0\n",
      "muon2_q = 1.0\n",
      "muon1_chi2overndof = 0.39492097\n",
      "muon2_chi2overndof = 0.7395577\n",
      "muon1_dxy = -0.0568195\n",
      "muon2_dxy = -0.07153648\n",
      "muon1_dxycorr = 0.0076186466\n",
      "muon2_dxycorr = 0.0012415313\n",
      "num_jets = 4\n",
      "jet_pt = [42.177284  0.        0.        0.      ]\n",
      "jet_eta = [-0.9211465  0.         0.         0.       ]\n",
      "jet_phi = [0.51036906 0.         0.         0.        ]\n",
      "jet_mass = [6.289423 0.       0.       0.      ]\n",
      "jet_csv = [-20.   0.   0.   0.]\n",
      "PVx = 0.08455052\n",
      "PVy = -0.032079823\n",
      "PVz = -2.232635\n",
      "dRmuon1_closestjet = 0.078928426\n",
      "dRmuon2_closestjet = 0.056638222\n"
     ]
    }
   ],
   "source": [
    "#convert to table                                                                                                                                                                    \n",
    "table = awk.Table(branches)\n",
    "for column_name in table[0]:                                                                                                                                                        \n",
    "    print(column_name, '=', table[0][column_name])                                                                                                                                  "
   ]
  },
  {
   "cell_type": "code",
   "execution_count": null,
   "id": "retired-dining",
   "metadata": {},
   "outputs": [],
   "source": []
  },
  {
   "cell_type": "markdown",
   "id": "accompanied-thong",
   "metadata": {},
   "source": [
    "# NO CUTS\n",
    "## (Sanity Check)"
   ]
  },
  {
   "cell_type": "code",
   "execution_count": 24,
   "id": "shaped-johns",
   "metadata": {},
   "outputs": [
    {
     "data": {
      "image/png": "[encoded data removed]",
      "text/plain": [
       "<Figure size 432x288 with 1 Axes>"
      ]
     },
     "metadata": {
      "needs_background": "light"
     },
     "output_type": "display_data"
    }
   ],
   "source": [
    "#plot histograms                                                                                                                                                                     \n",
    "plt.hist(branches['dimuon_pt'].flatten(), bins=1000, range=(0,50))\n",
    "plt.show()"
   ]
  },
  {
   "cell_type": "code",
   "execution_count": 41,
   "id": "perceived-synthesis",
   "metadata": {},
   "outputs": [],
   "source": [
    "#NO CUTS\n",
    "mu1p_nocuts = uproot3_methods.TLorentzVectorArray.from_ptetaphim(table['muon1_pt'], table['muon1_eta'], table['muon1_phi'], 0.1056583745)\n",
    "mu2p_nocuts = uproot3_methods.TLorentzVectorArray.from_ptetaphim(table['muon2_pt'], table['muon2_eta'], table['muon2_phi'], 0.1056583745)\n",
    "parentp_nocuts = mu1p_nocuts + mu2p_nocuts"
   ]
  },
  {
   "cell_type": "code",
   "execution_count": 42,
   "id": "inappropriate-vaccine",
   "metadata": {},
   "outputs": [
    {
     "data": {
      "image/png": "[encoded data removed]",
      "text/plain": [
       "<Figure size 1080x360 with 2 Axes>"
      ]
     },
     "metadata": {
      "needs_background": "light"
     },
     "output_type": "display_data"
    }
   ],
   "source": [
    "#No cuts\n",
    "fig, axes = plt.subplots(nrows=1, ncols=2, figsize=(15, 5))\n",
    "\n",
    "axes[0].hist(parentp_nocuts.mass, bins=np.logspace(np.log10(0.1), np.log10(1000), 200))\n",
    "axes[0].set_title('Dimuon Mass from Lorentz Vector (No cuts)')\n",
    "axes[0].set_xlabel('Dimuon invariant mass [GeV]')\n",
    "axes[0].set_ylabel('Number of dimuon events')\n",
    "axes[0].set_xscale('log')\n",
    "axes[0].set_yscale('log')\n",
    "\n",
    "# axes[1].hist(branches['dimuon_mass'].flatten(), bins=100, range=(0,5))\n",
    "dimuon_mass_branches = branches['dimuon_mass'].flatten()\n",
    "axes[1].hist(dimuon_mass_branches, bins=np.logspace(np.log10(0.1), np.log10(1000), 200))\n",
    "axes[1].set_title('Dimuon mass from Branches (No cuts)')\n",
    "axes[1].set_xlabel('Dimuon invariant mass [GeV]')\n",
    "axes[1].set_ylabel('Number of dimuon events')\n",
    "axes[1].set_xscale('log')\n",
    "axes[1].set_yscale('log')\n",
    "\n",
    "fig.tight_layout()"
   ]
  },
  {
   "cell_type": "code",
   "execution_count": 43,
   "id": "demographic-remedy",
   "metadata": {},
   "outputs": [
    {
     "data": {
      "image/png": "[encoded data removed]",
      "text/plain": [
       "<Figure size 1080x360 with 2 Axes>"
      ]
     },
     "metadata": {
      "needs_background": "light"
     },
     "output_type": "display_data"
    }
   ],
   "source": [
    "#No cuts\n",
    "fig, axes = plt.subplots(nrows=1, ncols=2, figsize=(15, 5))\n",
    "\n",
    "deltaR = mu1p_nocuts.delta_r(mu2p_nocuts)\n",
    "# deltaR = np.round(deltaR, 2)\n",
    "axes[0].hist(deltaR, bins=100)\n",
    "axes[0].set_title('$\\Delta R$ from Lorentz Vector')\n",
    "axes[0].set_xlabel('$\\Delta R$ between muons')\n",
    "axes[0].set_ylabel('Number of two-muon events')\n",
    "\n",
    "\n",
    "deltarR_branches = branches['dimuon_dR'].flatten()\n",
    "# deltarR_branches = np.round(deltarR_branches, 2)\n",
    "axes[1].hist(deltarR_branches, bins=100)\n",
    "axes[1].set_title('$\\Delta R$ from Branches')\n",
    "axes[1].set_xlabel('$\\Delta R$ between muons')\n",
    "axes[1].set_ylabel('Number of two-muon events')\n",
    "\n",
    "fig.tight_layout()\n"
   ]
  },
  {
   "cell_type": "code",
   "execution_count": 31,
   "id": "furnished-garden",
   "metadata": {},
   "outputs": [
    {
     "data": {
      "image/png": "[encoded data removed]",
      "text/plain": [
       "<Figure size 432x288 with 1 Axes>"
      ]
     },
     "metadata": {
      "needs_background": "light"
     },
     "output_type": "display_data"
    },
    {
     "name": "stdout",
     "output_type": "stream",
     "text": [
      "[4.26226e+05 1.94052e+05 4.96330e+04 5.33530e+04 7.45370e+04 1.04628e+05\n",
      " 2.43680e+04 8.99600e+03 2.69900e+03 2.80000e+02]\n",
      "[4.26226e+05 1.94052e+05 4.96330e+04 5.33530e+04 7.45370e+04 1.04628e+05\n",
      " 2.43680e+04 8.99600e+03 2.69900e+03 2.80000e+02]\n"
     ]
    },
    {
     "data": {
      "image/png": "[encoded data removed]",
      "text/plain": [
       "<Figure size 432x288 with 1 Axes>"
      ]
     },
     "metadata": {
      "needs_background": "light"
     },
     "output_type": "display_data"
    }
   ],
   "source": [
    "(n, bins, patches) = plt.hist(deltaR, bins=10)\n",
    "plt.show()\n",
    "(n1, bins1, patches1) = plt.hist(deltarR_branches, bins=10)\n",
    "print(n)\n",
    "print(n1)"
   ]
  },
  {
   "cell_type": "code",
   "execution_count": 40,
   "id": "collectible-blond",
   "metadata": {},
   "outputs": [
    {
     "data": {
      "image/png": "[encoded data removed]",
      "text/plain": [
       "<Figure size 1080x360 with 2 Axes>"
      ]
     },
     "metadata": {
      "needs_background": "light"
     },
     "output_type": "display_data"
    }
   ],
   "source": [
    "#muon 2 delta R\n",
    "fig, axes = plt.subplots(nrows=1, ncols=2, figsize=(15, 5))\n",
    "\n",
    "axes[0].hist(branches['dRmuon1_closestjet'].flatten(), bins=100)\n",
    "axes[0].set_title('$\\Delta R$ from muon 1')\n",
    "axes[0].set_xlabel('$\\Delta R$ between muons')\n",
    "axes[0].set_ylabel('Number of two-muon events')\n",
    "\n",
    "axes[1].hist(branches['dRmuon2_closestjet'].flatten(), bins=100)\n",
    "axes[1].set_title('$\\Delta R$ from muon 2')\n",
    "axes[1].set_xlabel('$\\Delta R$ between muons')\n",
    "axes[1].set_ylabel('Number of two-muon events')\n",
    "\n",
    "fig.tight_layout()"
   ]
  },
  {
   "cell_type": "code",
   "execution_count": null,
   "id": "confirmed-escape",
   "metadata": {},
   "outputs": [],
   "source": []
  },
  {
   "cell_type": "code",
   "execution_count": null,
   "id": "detailed-musician",
   "metadata": {},
   "outputs": [],
   "source": []
  },
  {
   "cell_type": "markdown",
   "id": "romance-wright",
   "metadata": {},
   "source": [
    "# Limit to 2 muons, OS"
   ]
  },
  {
   "cell_type": "code",
   "execution_count": 45,
   "id": "efficient-lawrence",
   "metadata": {},
   "outputs": [
    {
     "name": "stdout",
     "output_type": "stream",
     "text": [
      "two muuons table\n",
      "[<Row 0> <Row 1> <Row 2> ... <Row 938769> <Row 938770> <Row 938771>]\n",
      "# of rows, cols 896943 40\n",
      "# of rows and cols (896943,)\n",
      "# of elements 896943\n"
     ]
    }
   ],
   "source": [
    "###make Lorentz vectors                                                                                                                                                              \n",
    "\n",
    "#select only events with 2 muons, put them in a table, make lorentz vector                                                                                                           \n",
    "two_muon_events = (branches['num_muons'] == 2)\n",
    "two_muons_table = table[two_muon_events]\n",
    "print(\"two muuons table\")\n",
    "print(two_muons_table)\n",
    "print(\"# of rows, cols\", len(two_muons_table), len(two_muons_table.columns))\n",
    "print(\"# of rows and cols\", two_muons_table.shape)\n",
    "print(\"# of elements\", two_muons_table.size)\n"
   ]
  },
  {
   "cell_type": "code",
   "execution_count": 46,
   "id": "sorted-patio",
   "metadata": {},
   "outputs": [],
   "source": [
    "#get invariant mass and deltaR\n",
    "mu1p = uproot3_methods.TLorentzVectorArray.from_ptetaphim(two_muons_table['muon1_pt'], two_muons_table['muon1_eta'], two_muons_table['muon1_phi'], 0.1056583745)\n",
    "mu2p = uproot3_methods.TLorentzVectorArray.from_ptetaphim(two_muons_table['muon2_pt'], two_muons_table['muon2_eta'], two_muons_table['muon2_phi'], 0.1056583745)\n",
    "parentp = mu1p + mu2p"
   ]
  },
  {
   "cell_type": "code",
   "execution_count": 47,
   "id": "cosmetic-police",
   "metadata": {},
   "outputs": [],
   "source": [
    "#cut to only include opposite sign muons, apply cut to dimuon 4-vectors                                                                                                              \n",
    "OS_muons = two_muons_table['muon1_q'] != two_muons_table['muon2_q']\n",
    "dimuon_p4 = parentp[OS_muons]"
   ]
  },
  {
   "cell_type": "code",
   "execution_count": null,
   "id": "alpha-syndicate",
   "metadata": {},
   "outputs": [],
   "source": []
  },
  {
   "cell_type": "markdown",
   "id": "drawn-rendering",
   "metadata": {},
   "source": [
    "# Make Mass Plots"
   ]
  },
  {
   "cell_type": "code",
   "execution_count": 48,
   "id": "cheap-relevance",
   "metadata": {},
   "outputs": [
    {
     "data": {
      "image/png": "[encoded data removed]",
      "text/plain": [
       "<Figure size 432x288 with 1 Axes>"
      ]
     },
     "metadata": {
      "needs_background": "light"
     },
     "output_type": "display_data"
    }
   ],
   "source": [
    "#OS, dimuon mass\n",
    "plt.hist(dimuon_p4.mass, bins=np.logspace(np.log10(0.1), np.log10(1000), 200))\n",
    "plt.xlabel('OS Dimuon invariant mass [GeV]')\n",
    "plt.ylabel('Number of dimuon events')\n",
    "plt.xscale('log')\n",
    "plt.yscale('log')\n",
    "plt.show()"
   ]
  },
  {
   "cell_type": "code",
   "execution_count": 51,
   "id": "wicked-bridge",
   "metadata": {},
   "outputs": [
    {
     "name": "stdout",
     "output_type": "stream",
     "text": [
      "896943\n",
      "896943\n",
      "896943\n",
      "896943\n",
      "896943\n"
     ]
    }
   ],
   "source": [
    "#Add pt, eta, iso cuts\n",
    "#these cuts return true/false - true means keep that event, false means don't use it\n",
    "muon1_pt_cut = two_muons_table['muon1_pt'] >= 3\n",
    "muon2_pt_cut = two_muons_table['muon2_pt'] >= 3\n",
    "muon1_eta_cut = two_muons_table['muon1_eta'] <= 2.4\n",
    "muon2_eta_cut = two_muons_table['muon2_eta'] <= 2.4\n",
    "muon1_iso_cut = two_muons_table['muon1_trkiso'] >= 0.15\n",
    "muon2_iso_cut = two_muons_table['muon2_trkiso'] >= 0.15\n",
    "dimuon_all_cuts = muon1_pt_cut & muon2_pt_cut & muon1_eta_cut & muon2_eta_cut & muon1_iso_cut & muon2_iso_cut\n",
    "\n",
    "dimuon_p4_w_cuts = parentp[dimuon_all_cuts]\n",
    "\n",
    "print(muon1_pt_cut.sum())\n",
    "print(muon2_pt_cut.sum())\n",
    "print(muon1_eta_cut.sum())\n",
    "print(muon2_eta_cut.sum())\n",
    "print(dimuon_all_cuts.sum())"
   ]
  },
  {
   "cell_type": "code",
   "execution_count": 50,
   "id": "registered-martin",
   "metadata": {},
   "outputs": [
    {
     "data": {
      "image/png": "[encoded data removed]",
      "text/plain": [
       "<Figure size 432x288 with 1 Axes>"
      ]
     },
     "metadata": {
      "needs_background": "light"
     },
     "output_type": "display_data"
    }
   ],
   "source": [
    "plt.hist(dimuon_p4_w_cuts.mass, bins=np.logspace(np.log10(0.1), np.log10(1000), 200))\n",
    "plt.xlabel('Dimuon invariant mass (with cuts) [GeV]')\n",
    "plt.ylabel('Number of dimuon events')\n",
    "plt.xscale('log')\n",
    "plt.yscale('log')\n",
    "plt.show()"
   ]
  },
  {
   "cell_type": "code",
   "execution_count": null,
   "id": "brutal-matter",
   "metadata": {},
   "outputs": [],
   "source": []
  },
  {
   "cell_type": "code",
   "execution_count": null,
   "id": "crucial-happening",
   "metadata": {},
   "outputs": [],
   "source": []
  },
  {
   "cell_type": "markdown",
   "id": "national-generator",
   "metadata": {},
   "source": [
    "# Other Variable Plots"
   ]
  },
  {
   "cell_type": "markdown",
   "id": "centered-coordinate",
   "metadata": {},
   "source": [
    "### No Cuts"
   ]
  },
  {
   "cell_type": "code",
   "execution_count": 52,
   "id": "native-kingston",
   "metadata": {},
   "outputs": [
    {
     "data": {
      "image/png": "[encoded data removed]",
      "text/plain": [
       "<Figure size 432x288 with 1 Axes>"
      ]
     },
     "metadata": {
      "needs_background": "light"
     },
     "output_type": "display_data"
    },
    {
     "data": {
      "image/png": "[encoded data removed]",
      "text/plain": [
       "<Figure size 432x288 with 1 Axes>"
      ]
     },
     "metadata": {
      "needs_background": "light"
     },
     "output_type": "display_data"
    },
    {
     "data": {
      "image/png": "[encoded data removed]",
      "text/plain": [
       "<Figure size 432x288 with 1 Axes>"
      ]
     },
     "metadata": {
      "needs_background": "light"
     },
     "output_type": "display_data"
    }
   ],
   "source": [
    "#No cuts\n",
    "# plt.hist(parentp.pt, bins=np.logspace(np.log10(0.1), np.log10(1000), 200))\n",
    "# plt.xlabel('Dimuon pt [GeV] (log scale)')\n",
    "# plt.ylabel('Number of dimuon events')\n",
    "# plt.xscale('log')\n",
    "# plt.yscale('log')\n",
    "# plt.show()\n",
    "\n",
    "plt.hist(parentp.pt, bins=500, range=(0,50))\n",
    "plt.xlabel('Dimuon pt [GeV] (linear scale)')\n",
    "plt.ylabel('Number of dimuon events')\n",
    "plt.show()\n",
    "\n",
    "# plt.hist(parentp.eta, bins=np.logspace(np.log10(0.1), np.log10(1000), 200))\n",
    "# plt.xlabel('Dimuon eta [GeV] (log scale)')\n",
    "# plt.ylabel('Number of dimuon events')\n",
    "# plt.xscale('log')\n",
    "# plt.yscale('log')\n",
    "# plt.show()\n",
    "\n",
    "plt.hist(parentp.eta, bins=500)\n",
    "plt.xlabel('Dimuon eta [GeV] (linear scale)')\n",
    "plt.ylabel('Number of dimuon events')\n",
    "plt.show()\n",
    "\n",
    "plt.hist(parentp.phi, bins=500)\n",
    "plt.xlabel('Dimuon phi [GeV] (linear scale)')\n",
    "plt.ylabel('Number of dimuon events')\n",
    "plt.show()"
   ]
  },
  {
   "cell_type": "markdown",
   "id": "honey-closing",
   "metadata": {},
   "source": [
    "### Add cuts"
   ]
  },
  {
   "cell_type": "code",
   "execution_count": 54,
   "id": "critical-bermuda",
   "metadata": {},
   "outputs": [
    {
     "data": {
      "image/png": "[encoded data removed]",
      "text/plain": [
       "<Figure size 432x288 with 1 Axes>"
      ]
     },
     "metadata": {
      "needs_background": "light"
     },
     "output_type": "display_data"
    },
    {
     "data": {
      "image/png": "[encoded data removed]",
      "text/plain": [
       "<Figure size 432x288 with 1 Axes>"
      ]
     },
     "metadata": {
      "needs_background": "light"
     },
     "output_type": "display_data"
    },
    {
     "data": {
      "image/png": "[encoded data removed]",
      "text/plain": [
       "<Figure size 432x288 with 1 Axes>"
      ]
     },
     "metadata": {
      "needs_background": "light"
     },
     "output_type": "display_data"
    }
   ],
   "source": [
    "#Add pt, eta, iso cuts\n",
    "plt.hist(dimuon_p4_w_cuts.pt, bins=500, range=(0,50))\n",
    "plt.xlabel('Dimuon pt [GeV] (linear scale)')\n",
    "plt.ylabel('Number of dimuon events')\n",
    "plt.show()\n",
    "\n",
    "plt.hist(dimuon_p4_w_cuts.eta, bins=500)\n",
    "plt.xlabel('Dimuon eta [GeV] (linear scale)')\n",
    "plt.ylabel('Number of dimuon events')\n",
    "plt.show()\n",
    "\n",
    "plt.hist(dimuon_p4_w_cuts.phi, bins=500)\n",
    "plt.xlabel('Dimuon phi [GeV] (linear scale)')\n",
    "plt.ylabel('Number of dimuon events')\n",
    "plt.show()"
   ]
  },
  {
   "cell_type": "code",
   "execution_count": null,
   "id": "recreational-kazakhstan",
   "metadata": {},
   "outputs": [],
   "source": []
  },
  {
   "cell_type": "code",
   "execution_count": null,
   "id": "worth-freight",
   "metadata": {},
   "outputs": [],
   "source": []
  },
  {
   "cell_type": "code",
   "execution_count": null,
   "id": "organized-afternoon",
   "metadata": {},
   "outputs": [],
   "source": []
  },
  {
   "cell_type": "code",
   "execution_count": null,
   "id": "junior-glory",
   "metadata": {},
   "outputs": [],
   "source": []
  },
  {
   "cell_type": "code",
   "execution_count": null,
   "id": "strategic-textbook",
   "metadata": {},
   "outputs": [],
   "source": []
  },
  {
   "cell_type": "markdown",
   "id": "negative-bridges",
   "metadata": {},
   "source": [
    "## Examining Discrepancies"
   ]
  },
  {
   "cell_type": "code",
   "execution_count": 64,
   "id": "continuous-board",
   "metadata": {},
   "outputs": [],
   "source": [
    "# print(table.shape)\n",
    "# print(table.size)\n",
    "# print(branches['dimuon_pt'].size)\n",
    "# print(parentp.size)\n",
    "# print(two_muons_table.size)\n",
    "# print(dimuon_p4.size)"
   ]
  },
  {
   "cell_type": "code",
   "execution_count": 37,
   "id": "brilliant-article",
   "metadata": {},
   "outputs": [
    {
     "name": "stdout",
     "output_type": "stream",
     "text": [
      "1.3692797746808187\n",
      "1.3693004\n",
      "0.9701459233027165\n",
      "0.9701393\n",
      "1.5978683288547266\n",
      "1.597871\n",
      "2.2019381964695985\n",
      "2.2019799\n",
      "3.1715238264763905\n",
      "3.1715388\n",
      "2.1912773732844815\n",
      "2.1912777\n",
      "3.0779552146496694\n",
      "3.0779576\n",
      "8.943410156759352\n",
      "8.943409\n",
      "10.210780754381958\n",
      "10.210782\n",
      "33.23775928131727\n",
      "33.237762\n",
      "11.692627301158277\n",
      "11.692628\n",
      "3.08742737449446\n",
      "3.087426\n",
      "2.0288646033698874\n",
      "2.0288913\n",
      "23.28944951803855\n",
      "23.289452\n",
      "3.601148339034956\n",
      "3.6011436\n",
      "2.071652206696344\n",
      "2.0716455\n",
      "3.1383757076058796\n",
      "3.1383824\n",
      "0.7790764950737357\n",
      "0.7790834\n",
      "5.296367243698875\n",
      "5.2963576\n",
      "3.099985316834211\n",
      "3.0999908\n",
      "10.280538669349523\n",
      "10.28054\n",
      "18.484142461548426\n",
      "18.484142\n",
      "1.480475536835053\n",
      "1.4804753\n",
      "1.660498184076701\n",
      "1.6605768\n",
      "4.698638282568033\n",
      "4.6986423\n",
      "2.671021332455646\n",
      "2.6710284\n",
      "24.0671398261148\n",
      "24.067142\n",
      "2.9898617974075083\n",
      "2.9898572\n",
      "3.1403384982563645\n",
      "3.140332\n",
      "13.035585465626731\n",
      "13.035586\n",
      "8.002209770276103\n",
      "8.002214\n",
      "2.883601527394241\n",
      "2.8836007\n",
      "1.3008034983045726\n",
      "1.3008325\n",
      "1.4284465385020686\n",
      "1.4284717\n",
      "3.1073536200013803\n",
      "3.1073773\n",
      "7.529884659470035\n",
      "7.529884\n",
      "0.8108245877092896\n",
      "0.81078583\n",
      "24.85310107816689\n",
      "24.8531\n",
      "1.013379323247683\n",
      "1.0134857\n",
      "5.716551806400269\n",
      "5.7165465\n",
      "2.906316421411763\n",
      "2.9063075\n",
      "1.0601275192720625\n",
      "1.0601275\n",
      "2.3754545185719786\n",
      "2.375445\n",
      "3.051242018708707\n",
      "3.0512383\n",
      "1.9977132406883817\n",
      "1.9977186\n",
      "3.0549481621149304\n",
      "3.0549538\n",
      "93.65728879403754\n",
      "93.657295\n",
      "11.41860057697413\n",
      "11.418616\n",
      "3.020234658909598\n",
      "3.0202336\n",
      "14.949732541897724\n",
      "14.949732\n",
      "2.059737192906572\n",
      "2.0597408\n",
      "0.7339334566756419\n",
      "0.7339233\n",
      "22.752967076460113\n",
      "22.752972\n",
      "1.6330240718747533\n",
      "1.6330311\n",
      "2.942336950500495\n",
      "2.9423547\n",
      "2.286700824180483\n",
      "2.2866936\n",
      "1.1430413363007341\n",
      "1.1430488\n",
      "3.1134886492451503\n",
      "3.1134975\n",
      "1.945327737751658\n",
      "1.9453343\n",
      "3.0580077206224954\n",
      "3.0580091\n",
      "2.0615892595810763\n",
      "2.0615852\n",
      "3.6370991628687825\n",
      "3.6371057\n",
      "2.9293703982663764\n",
      "2.929362\n",
      "1.2490398361245216\n",
      "1.24899\n",
      "3.3585814466741715\n",
      "3.3585975\n",
      "83.191306751561\n",
      "83.19128\n",
      "17.170268075962017\n",
      "17.170265\n",
      "1.807280161027157\n",
      "1.8073028\n",
      "2.8850245419625367\n",
      "2.884996\n",
      "12.809364605168069\n",
      "12.809363\n",
      "9.344357200278273\n",
      "9.344378\n",
      "1.318113242359442\n",
      "1.3181229\n",
      "1.9888440865836414\n",
      "1.9887697\n",
      "3.099387730037632\n",
      "3.0993881\n",
      "3.0644303127699195\n",
      "3.064424\n",
      "6.775626122109113\n",
      "6.7756276\n",
      "2.9721568452573095\n",
      "2.9721806\n",
      "10.251432314044829\n",
      "10.25143\n",
      "6.986114692523745\n",
      "6.9861164\n",
      "6.351088703879126\n",
      "6.351089\n",
      "3.11330962665767\n",
      "3.1133254\n",
      "3.4083291696886593\n",
      "3.408303\n",
      "1.5657946457865266\n",
      "1.5657867\n",
      "16.953556403331817\n",
      "16.953556\n",
      "2.2842170382978115\n",
      "2.2842267\n",
      "2.4888431266787614\n",
      "2.488842\n",
      "0.6106579235247723\n",
      "0.6106524\n",
      "1.1180272264654965\n",
      "1.1180251\n",
      "1.041898623769905\n",
      "1.0418848\n",
      "10.271444091883678\n",
      "10.271442\n",
      "6.383945533760072\n",
      "6.383946\n",
      "3.0893616912933424\n",
      "3.0893745\n",
      "8.48435401681652\n",
      "8.484336\n",
      "12.706444657444285\n",
      "12.706446\n",
      "29.421011910448406\n",
      "29.421011\n",
      "1.3261915356858944\n",
      "1.3261847\n",
      "11.633657378324395\n",
      "11.633666\n",
      "1.59726265085374\n",
      "1.5972694\n",
      "3.0502220049149535\n",
      "3.0501719\n",
      "44.36892021618868\n",
      "44.36892\n"
     ]
    }
   ],
   "source": [
    "for i in range(100):\n",
    "    print(parentp.mass[i])\n",
    "    print(two_muons_table[i]['dimuon_mass'])"
   ]
  },
  {
   "cell_type": "code",
   "execution_count": 62,
   "id": "pointed-frost",
   "metadata": {},
   "outputs": [
    {
     "name": "stdout",
     "output_type": "stream",
     "text": [
      "9.589016\n",
      "9.590509078023862\n",
      "3.2485757\n",
      "3.2473431299901363\n",
      "54.143528\n",
      "54.142046144150264\n",
      "4.0679693\n",
      "4.066942141651946\n",
      "3.220589\n",
      "3.2189049740556284\n",
      "19.983644\n",
      "19.982504189892822\n",
      "2.0796475\n",
      "2.0807282630491883\n",
      "2.4291816\n",
      "2.4274663631429076\n",
      "2.872645\n",
      "2.8715673692585932\n",
      "3.216294\n",
      "3.215245443989371\n",
      "3.1108105\n",
      "3.1120013288368975\n",
      "3.2619658\n",
      "3.260131539081493\n",
      "3.2253554\n",
      "3.22420480177558\n",
      "2.6117806\n",
      "2.6127847996065436\n",
      "2.430008\n",
      "2.431021610286505\n",
      "3.3171551\n",
      "3.3157126463443314\n",
      "15.828847\n",
      "15.83467736266714\n",
      "17.154224\n",
      "17.149922072171808\n",
      "1.9866052\n",
      "1.9877210911961603\n",
      "3.148673\n",
      "3.1472232291030204\n",
      "3.0248036\n",
      "3.02366793469597\n",
      "2.7525456\n",
      "2.7536995071481845\n",
      "135.055\n",
      "135.05195828673575\n",
      "3.0402462\n",
      "3.042662024790527\n",
      "0.6362342\n",
      "0.6335812388342057\n",
      "13.867778\n",
      "13.865362669877918\n",
      "7.4991493\n",
      "7.501721838812598\n",
      "2.8740373\n",
      "2.872768920862963\n",
      "3.2386985\n",
      "3.239753223685022\n",
      "6.4370823\n",
      "6.43815250725732\n",
      "2.1603742\n",
      "2.1593299373553223\n",
      "3.162008\n",
      "3.163229429881728\n",
      "4.7874556\n",
      "4.789079133921007\n",
      "2.6614234\n",
      "2.6638671919050143\n",
      "4.1562424\n",
      "4.157283022708687\n",
      "3.071008\n",
      "3.0693717638735207\n",
      "2.560563\n",
      "2.5615750247764435\n",
      "1.7370937\n",
      "1.7383176532388078\n",
      "3.156356\n",
      "3.157491855726584\n",
      "12.1026745\n",
      "12.105310062825563\n",
      "5.947093\n",
      "5.94591375327099\n",
      "3.1015797\n",
      "3.1026879122522004\n",
      "2.9481196\n",
      "2.9470384609285825\n",
      "374.90845\n",
      "374.9055332814243\n",
      "3.0463002\n",
      "3.045246832104805\n",
      "1.7256815\n",
      "1.726805348159986\n",
      "2.4841304\n",
      "2.485144175510536\n",
      "6.0711493\n",
      "6.072318614148744\n",
      "3.1499813\n",
      "3.152696771341544\n",
      "250.33229\n",
      "250.27874992225523\n",
      "3.1380615\n",
      "3.1369283224363205\n",
      "1.9215914\n",
      "1.919211871350359\n",
      "12.549787\n",
      "12.593643474882635\n",
      "3.0527892\n",
      "3.05385668060174\n",
      "32.391796\n",
      "32.39327720022008\n",
      "10.539573\n",
      "10.548982889040946\n",
      "2.0311923\n",
      "2.032416664878635\n",
      "3.055666\n",
      "3.0567999770156726\n",
      "2.703426\n",
      "2.7023412447970085\n",
      "47.965935\n",
      "47.96463750634286\n",
      "2.8052506\n",
      "2.8062732497999017\n",
      "1.3293927\n",
      "1.3304941880516818\n",
      "3.1584828\n",
      "3.1569232258907864\n",
      "3.85146\n",
      "3.852473095370461\n",
      "2.144174\n",
      "2.14313414185634\n",
      "3.4958289\n",
      "3.496950161371436\n",
      "1.6436315\n",
      "1.6446941863975153\n",
      "3.0539708\n",
      "3.055466235397438\n",
      "3.003189\n",
      "3.001659539880035\n",
      "number of differences greater than 1e-3:  69\n",
      "biggest difference between values 0.053540727158832624\n"
     ]
    }
   ],
   "source": [
    "num_dif = 0\n",
    "biggest_dif = 0\n",
    "\n",
    "for i in range(two_muons_table.size):\n",
    "    dif = abs(two_muons_table[i]['dimuon_mass'] - parentp.mass[i])\n",
    "    if dif > biggest_dif:\n",
    "        biggest_dif = dif\n",
    "    if dif > 1e-3:\n",
    "        num_dif+=1\n",
    "        print(two_muons_table[i]['dimuon_mass'])\n",
    "        print(parentp.mass[i])\n",
    "        \n",
    "print(\"number of differences greater than 1e-3: \", num_dif)\n",
    "print(\"biggest difference between values\", biggest_dif)"
   ]
  },
  {
   "cell_type": "code",
   "execution_count": 63,
   "id": "polish-virgin",
   "metadata": {
    "scrolled": true
   },
   "outputs": [
    {
     "name": "stdout",
     "output_type": "stream",
     "text": [
      "number of differences greater than 1e-3:  69\n",
      "biggest difference between values 0.053540727158832624\n"
     ]
    }
   ],
   "source": [
    "print(\"number of differences greater than 1e-3: \", num_dif)\n",
    "print(\"biggest difference between values\", biggest_dif)"
   ]
  },
  {
   "cell_type": "code",
   "execution_count": null,
   "id": "japanese-technical",
   "metadata": {},
   "outputs": [],
   "source": []
  },
  {
   "cell_type": "code",
   "execution_count": 35,
   "id": "anticipated-laugh",
   "metadata": {},
   "outputs": [
    {
     "name": "stdout",
     "output_type": "stream",
     "text": [
      "0.13 0.13\n",
      "0.14 0.14\n",
      "0.23 0.23\n",
      "0.46 0.46\n",
      "0.87 0.87\n",
      "0.42 0.42\n",
      "0.71 0.71\n",
      "1.42 1.42\n",
      "1.87 1.87\n",
      "4.28 4.28\n",
      "2.1 2.1\n",
      "0.63 2.74\n",
      "0.19 0.63\n",
      "2.0 0.19\n",
      "0.4 2.0\n",
      "0.26 0.4\n",
      "0.96 0.26\n",
      "0.22 0.96\n",
      "0.47 0.22\n",
      "0.56 0.47\n",
      "3.15 0.56\n",
      "2.78 3.15\n",
      "0.22 2.78\n",
      "0.34 0.22\n",
      "0.82 0.34\n",
      "0.42 0.82\n",
      "1.69 0.42\n",
      "0.59 1.69\n",
      "0.66 0.59\n",
      "3.13 0.66\n",
      "3.07 3.13\n",
      "0.54 3.07\n",
      "0.27 0.54\n",
      "0.24 0.27\n",
      "0.71 1.79\n",
      "1.16 0.24\n",
      "0.15 0.71\n",
      "4.11 1.16\n",
      "0.21 0.15\n",
      "1.02 4.11\n",
      "0.78 0.21\n",
      "0.22 1.02\n",
      "0.49 0.78\n",
      "0.64 0.22\n",
      "0.54 0.49\n",
      "0.79 0.64\n",
      "1.04 0.54\n",
      "2.76 0.79\n",
      "0.56 1.04\n",
      "2.88 2.76\n",
      "0.47 0.56\n",
      "0.13 2.88\n",
      "2.99 0.47\n",
      "0.23 0.13\n",
      "0.52 2.99\n",
      "0.42 0.23\n",
      "0.28 0.52\n",
      "0.62 0.42\n",
      "0.46 0.28\n",
      "0.51 0.62\n",
      "0.31 0.46\n",
      "1.26 0.51\n",
      "0.62 0.31\n",
      "0.18 1.26\n",
      "0.67 0.62\n",
      "2.11 0.18\n",
      "2.96 0.67\n",
      "0.31 2.11\n",
      "0.22 1.71\n",
      "1.66 2.96\n",
      "1.89 0.31\n",
      "0.29 0.22\n",
      "0.28 1.66\n",
      "0.65 1.89\n",
      "0.43 0.29\n",
      "1.22 0.28\n",
      "0.43 0.65\n",
      "1.0 0.43\n",
      "2.39 1.22\n",
      "1.31 0.43\n",
      "0.67 1.0\n",
      "0.72 2.39\n",
      "0.36 1.31\n",
      "1.86 0.67\n",
      "0.63 0.72\n",
      "0.48 0.36\n",
      "0.09 1.86\n",
      "0.29 0.63\n",
      "0.18 0.48\n",
      "2.58 0.09\n",
      "0.96 0.29\n",
      "0.68 0.18\n",
      "2.89 2.58\n",
      "3.16 0.96\n",
      "3.1 0.68\n",
      "0.32 0.53\n",
      "3.1 2.89\n",
      "0.17 3.16\n",
      "0.58 3.1\n",
      "2.88 0.32\n"
     ]
    }
   ],
   "source": [
    "for i in range(100):\n",
    "    print(deltaR[i], deltarR_branches[i])\n",
    "#     print(two_muons_table[i]['dimuon_dR'])"
   ]
  },
  {
   "cell_type": "code",
   "execution_count": 34,
   "id": "golden-saying",
   "metadata": {},
   "outputs": [
    {
     "name": "stdout",
     "output_type": "stream",
     "text": [
      "number of differences greater than 1e-3:  0\n",
      "biggest difference between values 0\n"
     ]
    },
    {
     "data": {
      "image/png": "[encoded data removed]",
      "text/plain": [
       "<Figure size 432x288 with 1 Axes>"
      ]
     },
     "metadata": {
      "needs_background": "light"
     },
     "output_type": "display_data"
    }
   ],
   "source": [
    "num_dif_dr = 0\n",
    "biggest_dif_dr = 0\n",
    "dr_dif = []\n",
    "\n",
    "for i in range(two_muons_table.size):\n",
    "#     dif = abs(two_muons_table[i]['dimuon_dR'] - deltaR[i])\n",
    "    dif = abs(deltarR_branches[i] - deltaR[i])\n",
    "    dr_dif.append(dif)\n",
    "#     if dif > biggest_dif_dr:\n",
    "#         biggest_dif_dr = dif\n",
    "#     if dif > 1e-3:\n",
    "#         num_dif_dr+=1\n",
    "#         print(two_muons_table[i]['dimuon_dR'])\n",
    "#         print(deltaR[i])\n",
    "\n",
    "print(\"number of differences greater than 1e-3: \", num_dif_dr)\n",
    "print(\"biggest difference between values\", biggest_dif_dr)\n",
    "\n",
    "plt.hist(dr_dif, bins=100)\n",
    "plt.show()"
   ]
  },
  {
   "cell_type": "code",
   "execution_count": null,
   "id": "musical-notice",
   "metadata": {},
   "outputs": [],
   "source": []
  },
  {
   "cell_type": "code",
   "execution_count": null,
   "id": "suited-alabama",
   "metadata": {},
   "outputs": [],
   "source": []
  },
  {
   "cell_type": "code",
   "execution_count": null,
   "id": "signal-facing",
   "metadata": {},
   "outputs": [],
   "source": []
  },
  {
   "cell_type": "code",
   "execution_count": null,
   "id": "talented-joining",
   "metadata": {},
   "outputs": [],
   "source": []
  },
  {
   "cell_type": "code",
   "execution_count": null,
   "id": "precious-challenge",
   "metadata": {},
   "outputs": [],
   "source": []
  },
  {
   "cell_type": "code",
   "execution_count": null,
   "id": "diagnostic-dressing",
   "metadata": {},
   "outputs": [],
   "source": []
  },
  {
   "cell_type": "code",
   "execution_count": null,
   "id": "similar-society",
   "metadata": {},
   "outputs": [],
   "source": []
  }
 ],
 "metadata": {
  "kernelspec": {
   "display_name": "Python 3",
   "language": "python",
   "name": "python3"
  },
  "language_info": {
   "codemirror_mode": {
    "name": "ipython",
    "version": 3
   },
   "file_extension": ".py",
   "mimetype": "text/x-python",
   "name": "python",
   "nbconvert_exporter": "python",
   "pygments_lexer": "ipython3",
   "version": "3.7.4"
  }
 },
 "nbformat": 4,
 "nbformat_minor": 5
}
