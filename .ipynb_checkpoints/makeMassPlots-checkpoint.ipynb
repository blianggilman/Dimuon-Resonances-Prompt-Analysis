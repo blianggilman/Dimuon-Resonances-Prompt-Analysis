{
 "cells": [
  {
   "cell_type": "code",
   "execution_count": 2,
   "id": "maritime-plant",
   "metadata": {},
   "outputs": [],
   "source": [
    "import uproot3\n",
    "import awkward0 as awk\n",
    "import numpy as np\n",
    "import matplotlib.pyplot as plt\n",
    "import uproot_methods\n",
    "import uproot3_methods"
   ]
  },
  {
   "cell_type": "code",
   "execution_count": 3,
   "id": "fallen-advocate",
   "metadata": {},
   "outputs": [],
   "source": [
    "import os\n",
    "import sys"
   ]
  },
  {
   "cell_type": "code",
   "execution_count": 4,
   "id": "billion-weapon",
   "metadata": {},
   "outputs": [],
   "source": [
    "# input_file = uproot3.open(\"/cms/routray/crab_output/muontuples_10percent_v2/ScoutingCaloMuon/ScoutingCaloMuon_Ntuples_Run2017D_v1/200307_225553/0000/scouting_ntuple_1.root\")\n",
    "#print(\"kind of objects: \", input_file.classnames())                                                                                                                                 \n",
    "\n",
    "#ROOT.TFile('/cms/routray/crab_output/muontuples_10percent_v2/ScoutingCaloMuon/ScoutingCaloMuon_Ntuples_Run2017D_v1/200307_225553/0000/scouting_ntuple_{0}.root'.format(sys.argv[1]))"
   ]
  },
  {
   "cell_type": "code",
   "execution_count": 5,
   "id": "medical-token",
   "metadata": {},
   "outputs": [],
   "source": [
    "input_file = uproot3.open(\"/cms/threejet-2/beatrice/muon_ntuples_sl7/CMSSW_10_2_5/src/MuonAnalysis/Scouting/condor/output/2017/D/OS_flattree_1.root\")\n"
   ]
  },
  {
   "cell_type": "code",
   "execution_count": 6,
   "id": "coated-plaintiff",
   "metadata": {},
   "outputs": [
    {
     "name": "stdout",
     "output_type": "stream",
     "text": [
      "[b'events;1']\n"
     ]
    }
   ],
   "source": [
    "data_keys = input_file.keys()\n",
    "print(data_keys)\n"
   ]
  },
  {
   "cell_type": "code",
   "execution_count": 7,
   "id": "comic-bacon",
   "metadata": {},
   "outputs": [
    {
     "name": "stdout",
     "output_type": "stream",
     "text": [
      "Tree keys:\n",
      "[b'run', b'lumi', b'event_num', b'num_muons', b'dimuon_pt', b'dimuon_mass', b'muon1_trkiso', b'muon2_trkiso', b'muon1_pt', b'muon2_pt', b'muon1_eta', b'muon2_eta', b'muon1_phi', b'muon2_phi', b'muon1_excesspixelhits', b'muon2_excesspixelhits', b'muon1_q', b'muon2_q', b'muon1_chi2overndof', b'muon2_chi2overndof', b'muon1_dxy', b'muon2_dxy', b'muon1_dxycorr', b'muon2_dxycorr', b'num_jets', b'jet_pt', b'jet_eta', b'jet_phi', b'jet_mass', b'jet_csv', b'PVx', b'PVy', b'PVz', b'dRmuon1_closestjet', b'dRmuon2_closestjet', b'muon1_pt_isocut', b'muon2_pt_isocut', b'muon1_eta_isocut', b'muon2_eta_isocut', b'muon1_phi_isocut', b'muon2_phi_isocut']\n"
     ]
    }
   ],
   "source": [
    "tree = input_file[\"events\"]\n",
    "\n",
    "vals = tree.keys()\n",
    "print(\"Tree keys:\")\n",
    "print(vals)"
   ]
  },
  {
   "cell_type": "code",
   "execution_count": 8,
   "id": "disabled-investigation",
   "metadata": {},
   "outputs": [
    {
     "name": "stdout",
     "output_type": "stream",
     "text": [
      "run                        (no streamer)              asdtype('>i4')\n",
      "lumi                       (no streamer)              asdtype('>i4')\n",
      "event_num                  (no streamer)              asdtype('>i4')\n",
      "num_muons                  (no streamer)              asdtype('>i4')\n",
      "dimuon_pt                  (no streamer)              asdtype('>f4')\n",
      "dimuon_mass                (no streamer)              asdtype('>f4')\n",
      "muon1_trkiso               (no streamer)              asdtype('>f4')\n",
      "muon2_trkiso               (no streamer)              asdtype('>f4')\n",
      "muon1_pt                   (no streamer)              asdtype('>f4')\n",
      "muon2_pt                   (no streamer)              asdtype('>f4')\n",
      "muon1_eta                  (no streamer)              asdtype('>f4')\n",
      "muon2_eta                  (no streamer)              asdtype('>f4')\n",
      "muon1_phi                  (no streamer)              asdtype('>f4')\n",
      "muon2_phi                  (no streamer)              asdtype('>f4')\n",
      "muon1_excesspixelhits      (no streamer)              asdtype('>f4')\n",
      "muon2_excesspixelhits      (no streamer)              asdtype('>f4')\n",
      "muon1_q                    (no streamer)              asdtype('>f4')\n",
      "muon2_q                    (no streamer)              asdtype('>f4')\n",
      "muon1_chi2overndof         (no streamer)              asdtype('>f4')\n",
      "muon2_chi2overndof         (no streamer)              asdtype('>f4')\n",
      "muon1_dxy                  (no streamer)              asdtype('>f4')\n",
      "muon2_dxy                  (no streamer)              asdtype('>f4')\n",
      "muon1_dxycorr              (no streamer)              asdtype('>f4')\n",
      "muon2_dxycorr              (no streamer)              asdtype('>f4')\n",
      "num_jets                   (no streamer)              asdtype('>i4')\n",
      "jet_pt                     (no streamer)              asjagged(asdtype('>f4'))\n",
      "jet_eta                    (no streamer)              asjagged(asdtype('>f4'))\n",
      "jet_phi                    (no streamer)              asjagged(asdtype('>f4'))\n",
      "jet_mass                   (no streamer)              asjagged(asdtype('>f4'))\n",
      "jet_csv                    (no streamer)              asjagged(asdtype('>f4'))\n",
      "PVx                        (no streamer)              asdtype('>f4')\n",
      "PVy                        (no streamer)              asdtype('>f4')\n",
      "PVz                        (no streamer)              asdtype('>f4')\n",
      "dRmuon1_closestjet         (no streamer)              asdtype('>f4')\n",
      "dRmuon2_closestjet         (no streamer)              asdtype('>f4')\n",
      "muon1_pt_isocut            (no streamer)              asdtype('>f4')\n",
      "muon2_pt_isocut            (no streamer)              asdtype('>f4')\n",
      "muon1_eta_isocut           (no streamer)              asdtype('>f4')\n",
      "muon2_eta_isocut           (no streamer)              asdtype('>f4')\n",
      "muon1_phi_isocut           (no streamer)              asdtype('>f4')\n",
      "muon2_phi_isocut           (no streamer)              asdtype('>f4')\n"
     ]
    }
   ],
   "source": [
    "tree.show()"
   ]
  },
  {
   "cell_type": "code",
   "execution_count": 9,
   "id": "available-brake",
   "metadata": {},
   "outputs": [
    {
     "name": "stdout",
     "output_type": "stream",
     "text": [
      "First 10 dimuon_pt values:\n",
      "10.045744\n",
      "14.680057\n",
      "8.570869\n",
      "9.886943\n",
      "14.156819\n",
      "9.516655\n",
      "5.8903227\n",
      "6.573427\n",
      "7.6505623\n",
      "4.6725535\n"
     ]
    }
   ],
   "source": [
    "branches = tree.arrays(namedecode='utf-8')\n",
    "#print(branches['Run'])                                                                                                                                                              \n",
    "print(\"First 10 dimuon_pt values:\")\n",
    "for i in range(10):\n",
    "    print(branches['dimuon_pt'][i])"
   ]
  },
  {
   "cell_type": "code",
   "execution_count": 10,
   "id": "latter-performer",
   "metadata": {},
   "outputs": [
    {
     "name": "stdout",
     "output_type": "stream",
     "text": [
      "run = 1217628832\n",
      "lumi = 1065353216\n",
      "event_num = 0\n",
      "num_muons = 2\n",
      "dimuon_pt = 10.045744\n",
      "dimuon_mass = 3.3173053\n",
      "muon1_trkiso = 5.39478\n",
      "muon2_trkiso = 5.178015\n",
      "muon1_pt = 5.39478\n",
      "muon2_pt = 5.178015\n",
      "muon1_eta = 1.3779724\n",
      "muon2_eta = 1.3203633\n",
      "muon1_phi = -2.21052\n",
      "muon2_phi = -2.844816\n",
      "muon1_excesspixelhits = 0.0\n",
      "muon2_excesspixelhits = -2.0\n",
      "muon1_q = 0.0\n",
      "muon2_q = 0.0\n",
      "muon1_chi2overndof = 0.0\n",
      "muon2_chi2overndof = 0.0\n",
      "muon1_dxy = 0.0\n",
      "muon2_dxy = 0.0\n",
      "muon1_dxycorr = 0.0\n",
      "muon2_dxycorr = 0.0\n",
      "num_jets = 0\n",
      "jet_pt = []\n",
      "jet_eta = []\n",
      "jet_phi = []\n",
      "jet_mass = []\n",
      "jet_csv = []\n",
      "PVx = 0.0854037\n",
      "PVy = -0.031323217\n",
      "PVz = 6.8743353\n",
      "dRmuon1_closestjet = 9999.0\n",
      "dRmuon2_closestjet = 9999.0\n",
      "muon1_pt_isocut = 5.39478\n",
      "muon2_pt_isocut = 5.178015\n",
      "muon1_eta_isocut = 1.3779724\n",
      "muon2_eta_isocut = 1.3203633\n",
      "muon1_phi_isocut = -2.21052\n",
      "muon2_phi_isocut = -2.844816\n"
     ]
    }
   ],
   "source": [
    "#convert to table                                                                                                                                                                    \n",
    "table = awk.Table(branches)\n",
    "for column_name in table[0]:                                                                                                                                                        \n",
    "    print(column_name, '=', table[0][column_name])                                                                                                                                  "
   ]
  },
  {
   "cell_type": "code",
   "execution_count": 11,
   "id": "shaped-johns",
   "metadata": {},
   "outputs": [
    {
     "data": {
      "image/png": "[encoded data removed]",
      "text/plain": [
       "<Figure size 432x288 with 1 Axes>"
      ]
     },
     "metadata": {
      "needs_background": "light"
     },
     "output_type": "display_data"
    }
   ],
   "source": [
    "#plot histograms                                                                                                                                                                     \n",
    "plt.hist(branches['dimuon_pt'].flatten(), bins=1000, range=(0,50))\n",
    "plt.show()"
   ]
  },
  {
   "cell_type": "code",
   "execution_count": null,
   "id": "demographic-remedy",
   "metadata": {},
   "outputs": [],
   "source": []
  },
  {
   "cell_type": "code",
   "execution_count": 12,
   "id": "efficient-lawrence",
   "metadata": {},
   "outputs": [
    {
     "name": "stdout",
     "output_type": "stream",
     "text": [
      "two muuons table\n",
      "[<Row 0> <Row 1> <Row 2> ... <Row 261226> <Row 261227> <Row 261228>]\n",
      "# of rows, cols 255910 41\n",
      "# of rows and cols (255910,)\n",
      "# of elements 255910\n"
     ]
    }
   ],
   "source": [
    "###make Lorentz vectors                                                                                                                                                              \n",
    "\n",
    "#select only events with 2 muons, put them in a table, make lorentz vector                                                                                                           \n",
    "two_muon_events = (branches['num_muons'] == 2)\n",
    "#two_muons_table = awk.Table(two_muon_events)                                                                                                                                        \n",
    "two_muons_table = table[two_muon_events]\n",
    "print(\"two muuons table\")\n",
    "print(two_muons_table)\n",
    "#print(two_muons_table.info())                                                                                                                                                       \n",
    "print(\"# of rows, cols\", len(two_muons_table), len(two_muons_table.columns))\n",
    "print(\"# of rows and cols\", two_muons_table.shape)\n",
    "print(\"# of elements\", two_muons_table.size)\n",
    "#print(two_muons_table['muon_pt'].size))                                                                                                                                             \n",
    "#print(two_muons_table['muon_eta'].size))                                                                                                                                            \n",
    "#print(two_muons_table['muon_phi'].size))                                                                                                                                            \n"
   ]
  },
  {
   "cell_type": "code",
   "execution_count": 13,
   "id": "sorted-patio",
   "metadata": {},
   "outputs": [],
   "source": [
    "#get invariant mass and deltaR\n",
    "mu1p = uproot3_methods.TLorentzVectorArray.from_ptetaphim(two_muons_table['muon1_pt'], two_muons_table['muon1_eta'], two_muons_table['muon1_phi'], 0.1056583745)\n",
    "mu2p = uproot3_methods.TLorentzVectorArray.from_ptetaphim(two_muons_table['muon2_pt'], two_muons_table['muon2_eta'], two_muons_table['muon2_phi'], 0.1056583745)\n",
    "parentp = mu1p + mu2p"
   ]
  },
  {
   "cell_type": "code",
   "execution_count": 14,
   "id": "explicit-democrat",
   "metadata": {},
   "outputs": [
    {
     "data": {
      "image/png": "[encoded data removed]",
      "text/plain": [
       "<Figure size 432x288 with 1 Axes>"
      ]
     },
     "metadata": {
      "needs_background": "light"
     },
     "output_type": "display_data"
    }
   ],
   "source": [
    "deltaR = mu1p.delta_r(mu2p)\n",
    "plt.hist(deltaR, bins=100)\n",
    "plt.xlabel('$\\Delta R$ between muons')\n",
    "plt.ylabel('Number of two-muon events')\n",
    "plt.show()"
   ]
  },
  {
   "cell_type": "code",
   "execution_count": 15,
   "id": "cosmetic-police",
   "metadata": {},
   "outputs": [
    {
     "data": {
      "image/png": "[encoded data removed]",
      "text/plain": [
       "<Figure size 432x288 with 1 Axes>"
      ]
     },
     "metadata": {
      "needs_background": "light"
     },
     "output_type": "display_data"
    }
   ],
   "source": [
    "#cut to only include opposite sign muons, apply cut to dimuon 4-vectors                                                                                                              \n",
    "# OS_muons = two_muons_table['muon_q'][:, 0] != two_muons_table['muon_q'][:, 1]\n",
    "# dimuon_p4 = parentp[OS_muons]\n",
    "SS_muons = two_muons_table['muon1_q'] == two_muons_table['muon2_q']\n",
    "dimuon_p4 = parentp[SS_muons]\n",
    "plt.hist(dimuon_p4.mass, bins=np.logspace(np.log10(0.1), np.log10(1000), 200))\n",
    "plt.xlabel('Dimuon invariant mass [GeV]')\n",
    "plt.ylabel('Number of dimuon events')\n",
    "plt.xscale('log')\n",
    "plt.yscale('log')\n",
    "plt.show()"
   ]
  },
  {
   "cell_type": "code",
   "execution_count": null,
   "id": "alpha-syndicate",
   "metadata": {},
   "outputs": [],
   "source": []
  },
  {
   "cell_type": "markdown",
   "id": "drawn-rendering",
   "metadata": {},
   "source": [
    "# Make Mass Plots"
   ]
  },
  {
   "cell_type": "code",
   "execution_count": 16,
   "id": "cheap-relevance",
   "metadata": {},
   "outputs": [
    {
     "data": {
      "image/png": "[encoded data removed]",
      "text/plain": [
       "<Figure size 432x288 with 1 Axes>"
      ]
     },
     "metadata": {
      "needs_background": "light"
     },
     "output_type": "display_data"
    }
   ],
   "source": [
    "#No cuts\n",
    "plt.hist(parentp.mass, bins=np.logspace(np.log10(0.1), np.log10(1000), 200))\n",
    "plt.xlabel('Dimuon invariant mass (no cuts) [GeV]')\n",
    "plt.ylabel('Number of dimuon events')\n",
    "plt.xscale('log')\n",
    "plt.yscale('log')\n",
    "plt.show()"
   ]
  },
  {
   "cell_type": "code",
   "execution_count": 17,
   "id": "wicked-bridge",
   "metadata": {},
   "outputs": [
    {
     "name": "stdout",
     "output_type": "stream",
     "text": [
      "255910\n",
      "255910\n",
      "255910\n",
      "255910\n",
      "255910\n"
     ]
    },
    {
     "data": {
      "image/png": "[encoded data removed]",
      "text/plain": [
       "<Figure size 432x288 with 1 Axes>"
      ]
     },
     "metadata": {
      "needs_background": "light"
     },
     "output_type": "display_data"
    }
   ],
   "source": [
    "#Add pt, eta, iso cuts\n",
    "#these cuts return true/false - true means keep that event, false means don't use it\n",
    "muon1_pt_cut = two_muons_table['muon1_pt'] >= 3\n",
    "muon2_pt_cut = two_muons_table['muon2_pt'] >= 3\n",
    "muon1_eta_cut = two_muons_table['muon1_eta'] <= 2.4\n",
    "muon2_eta_cut = two_muons_table['muon2_eta'] <= 2.4\n",
    "muon1_iso_cut = two_muons_table['muon1_trkiso'] >= 0.15\n",
    "muon2_iso_cut = two_muons_table['muon2_trkiso'] >= 0.15\n",
    "dimuon_all_cuts = muon1_pt_cut & muon2_pt_cut & muon1_eta_cut & muon2_eta_cut & muon1_iso_cut & muon2_iso_cut\n",
    "# dimuon_all_cuts_or = muon1_pt_cut | muon2_pt_cut | muon1_eta_cut | muon2_eta_cut | muon1_iso_cut | muon2_iso_cut\n",
    "dimuon_p4_w_cuts = parentp[dimuon_all_cuts]\n",
    "\n",
    "print(muon1_pt_cut.sum())\n",
    "print(muon2_pt_cut.sum())\n",
    "print(muon1_eta_cut.sum())\n",
    "print(muon2_eta_cut.sum())\n",
    "print(dimuon_all_cuts.sum())\n",
    "# print(dimuon_all_cuts_or.sum())\n",
    "\n",
    "plt.hist(dimuon_p4_w_cuts.mass, bins=np.logspace(np.log10(0.1), np.log10(1000), 200))\n",
    "plt.xlabel('Dimuon invariant mass (with cuts) [GeV]')\n",
    "plt.ylabel('Number of dimuon events')\n",
    "plt.xscale('log')\n",
    "plt.yscale('log')\n",
    "plt.show()"
   ]
  },
  {
   "cell_type": "code",
   "execution_count": 18,
   "id": "registered-martin",
   "metadata": {},
   "outputs": [
    {
     "name": "stdout",
     "output_type": "stream",
     "text": [
      "255910\n",
      "255910\n",
      "[TLorentzVector(x=-8.1722, y=-5.8423, z=19.024, t=21.768) TLorentzVector(x=10.881, y=-9.8541, z=50.883, t=53.046) TLorentzVector(x=-6.1876, y=5.9307, z=-3.9173, t=19.601) ... TLorentzVector(x=-10.177, y=-1.7441, z=-15.138, t=18.329) TLorentzVector(x=3.6393, y=2.1878, z=76.574, t=117.87) TLorentzVector(x=11.471, y=0.080112, z=-0.16535, t=21.105)]\n",
      "[TLorentzVector(x=-8.1722, y=-5.8423, z=19.024, t=21.768) TLorentzVector(x=10.881, y=-9.8541, z=50.883, t=53.046) TLorentzVector(x=-6.1876, y=5.9307, z=-3.9173, t=19.601) ... TLorentzVector(x=-10.177, y=-1.7441, z=-15.138, t=18.329) TLorentzVector(x=3.6393, y=2.1878, z=76.574, t=117.87) TLorentzVector(x=11.471, y=0.080112, z=-0.16535, t=21.105)]\n"
     ]
    }
   ],
   "source": [
    "print(len(dimuon_p4_w_cuts))\n",
    "print(len(parentp))\n",
    "print(dimuon_p4_w_cuts)\n",
    "print(parentp)"
   ]
  },
  {
   "cell_type": "code",
   "execution_count": null,
   "id": "brutal-matter",
   "metadata": {},
   "outputs": [],
   "source": []
  },
  {
   "cell_type": "code",
   "execution_count": null,
   "id": "crucial-happening",
   "metadata": {},
   "outputs": [],
   "source": []
  },
  {
   "cell_type": "markdown",
   "id": "national-generator",
   "metadata": {},
   "source": [
    "# Other Variable Plots"
   ]
  },
  {
   "cell_type": "markdown",
   "id": "centered-coordinate",
   "metadata": {},
   "source": [
    "### No Cuts"
   ]
  },
  {
   "cell_type": "code",
   "execution_count": 19,
   "id": "native-kingston",
   "metadata": {},
   "outputs": [
    {
     "data": {
      "image/png": "[encoded data removed]",
      "text/plain": [
       "<Figure size 432x288 with 1 Axes>"
      ]
     },
     "metadata": {
      "needs_background": "light"
     },
     "output_type": "display_data"
    },
    {
     "data": {
      "image/png": "[encoded data removed]",
      "text/plain": [
       "<Figure size 432x288 with 1 Axes>"
      ]
     },
     "metadata": {
      "needs_background": "light"
     },
     "output_type": "display_data"
    },
    {
     "data": {
      "image/png": "[encoded data removed]",
      "text/plain": [
       "<Figure size 432x288 with 1 Axes>"
      ]
     },
     "metadata": {
      "needs_background": "light"
     },
     "output_type": "display_data"
    },
    {
     "data": {
      "image/png": "[encoded data removed]",
      "text/plain": [
       "<Figure size 432x288 with 1 Axes>"
      ]
     },
     "metadata": {
      "needs_background": "light"
     },
     "output_type": "display_data"
    },
    {
     "data": {
      "image/png": "[encoded data removed]",
      "text/plain": [
       "<Figure size 432x288 with 1 Axes>"
      ]
     },
     "metadata": {
      "needs_background": "light"
     },
     "output_type": "display_data"
    }
   ],
   "source": [
    "#No cuts\n",
    "plt.hist(parentp.pt, bins=np.logspace(np.log10(0.1), np.log10(1000), 200))\n",
    "plt.xlabel('Dimuon pt [GeV] (log scale)')\n",
    "plt.ylabel('Number of dimuon events')\n",
    "plt.xscale('log')\n",
    "plt.yscale('log')\n",
    "plt.show()\n",
    "\n",
    "plt.hist(parentp.pt, bins=500, range=(0,50))\n",
    "plt.xlabel('Dimuon pt [GeV] (linear scale)')\n",
    "plt.ylabel('Number of dimuon events')\n",
    "plt.show()\n",
    "\n",
    "plt.hist(parentp.eta, bins=np.logspace(np.log10(0.1), np.log10(1000), 200))\n",
    "plt.xlabel('Dimuon eta [GeV] (log scale)')\n",
    "plt.ylabel('Number of dimuon events')\n",
    "plt.xscale('log')\n",
    "plt.yscale('log')\n",
    "plt.show()\n",
    "\n",
    "plt.hist(parentp.eta, bins=500)\n",
    "plt.xlabel('Dimuon eta [GeV] (linear scale)')\n",
    "plt.ylabel('Number of dimuon events')\n",
    "plt.show()\n",
    "\n",
    "plt.hist(parentp.phi, bins=500)\n",
    "plt.xlabel('Dimuon phi [GeV] (linear scale)')\n",
    "plt.ylabel('Number of dimuon events')\n",
    "plt.show()"
   ]
  },
  {
   "cell_type": "markdown",
   "id": "honey-closing",
   "metadata": {},
   "source": [
    "### Add cuts"
   ]
  },
  {
   "cell_type": "code",
   "execution_count": 20,
   "id": "critical-bermuda",
   "metadata": {},
   "outputs": [
    {
     "data": {
      "image/png": "[encoded data removed]",
      "text/plain": [
       "<Figure size 432x288 with 1 Axes>"
      ]
     },
     "metadata": {
      "needs_background": "light"
     },
     "output_type": "display_data"
    },
    {
     "data": {
      "image/png": "[encoded data removed]",
      "text/plain": [
       "<Figure size 432x288 with 1 Axes>"
      ]
     },
     "metadata": {
      "needs_background": "light"
     },
     "output_type": "display_data"
    }
   ],
   "source": [
    "#Add pt, eta, iso cuts\n",
    "plt.hist(dimuon_p4_w_cuts.pt, bins=np.logspace(np.log10(0.1), np.log10(1000), 200))\n",
    "plt.xlabel('Dimuon pt [GeV] (linear scale)')\n",
    "plt.ylabel('Number of dimuon events')\n",
    "plt.xscale('log')\n",
    "plt.yscale('log')\n",
    "plt.show()\n",
    "\n",
    "plt.hist(dimuon_p4_w_cuts.eta, bins=500)\n",
    "plt.xlabel('Dimuon eta [GeV] (linear scale)')\n",
    "plt.ylabel('Number of dimuon events')\n",
    "plt.show()"
   ]
  },
  {
   "cell_type": "code",
   "execution_count": null,
   "id": "recreational-kazakhstan",
   "metadata": {},
   "outputs": [],
   "source": []
  },
  {
   "cell_type": "code",
   "execution_count": null,
   "id": "worth-freight",
   "metadata": {},
   "outputs": [],
   "source": []
  },
  {
   "cell_type": "code",
   "execution_count": null,
   "id": "organized-afternoon",
   "metadata": {},
   "outputs": [],
   "source": []
  },
  {
   "cell_type": "code",
   "execution_count": null,
   "id": "junior-glory",
   "metadata": {},
   "outputs": [],
   "source": []
  },
  {
   "cell_type": "code",
   "execution_count": null,
   "id": "strategic-textbook",
   "metadata": {},
   "outputs": [],
   "source": []
  },
  {
   "cell_type": "code",
   "execution_count": null,
   "id": "official-singles",
   "metadata": {},
   "outputs": [],
   "source": []
  },
  {
   "cell_type": "code",
   "execution_count": null,
   "id": "pointed-frost",
   "metadata": {},
   "outputs": [],
   "source": []
  },
  {
   "cell_type": "code",
   "execution_count": null,
   "id": "golden-saying",
   "metadata": {},
   "outputs": [],
   "source": []
  },
  {
   "cell_type": "code",
   "execution_count": null,
   "id": "musical-notice",
   "metadata": {},
   "outputs": [],
   "source": []
  },
  {
   "cell_type": "code",
   "execution_count": null,
   "id": "suited-alabama",
   "metadata": {},
   "outputs": [],
   "source": []
  },
  {
   "cell_type": "code",
   "execution_count": null,
   "id": "signal-facing",
   "metadata": {},
   "outputs": [],
   "source": []
  },
  {
   "cell_type": "code",
   "execution_count": null,
   "id": "talented-joining",
   "metadata": {},
   "outputs": [],
   "source": []
  },
  {
   "cell_type": "code",
   "execution_count": null,
   "id": "precious-challenge",
   "metadata": {},
   "outputs": [],
   "source": []
  },
  {
   "cell_type": "code",
   "execution_count": null,
   "id": "diagnostic-dressing",
   "metadata": {},
   "outputs": [],
   "source": []
  },
  {
   "cell_type": "code",
   "execution_count": null,
   "id": "similar-society",
   "metadata": {},
   "outputs": [],
   "source": []
  }
 ],
 "metadata": {
  "kernelspec": {
   "display_name": "Python 3",
   "language": "python",
   "name": "python3"
  },
  "language_info": {
   "codemirror_mode": {
    "name": "ipython",
    "version": 3
   },
   "file_extension": ".py",
   "mimetype": "text/x-python",
   "name": "python",
   "nbconvert_exporter": "python",
   "pygments_lexer": "ipython3",
   "version": "3.7.4"
  }
 },
 "nbformat": 4,
 "nbformat_minor": 5
}
